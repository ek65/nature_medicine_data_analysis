{
 "cells": [
  {
   "cell_type": "code",
   "execution_count": 1,
   "id": "89623ff1-51a4-4e00-bcab-4deadbd6a3d7",
   "metadata": {},
   "outputs": [],
   "source": [
    "from intervention_software_generator import *"
   ]
  },
  {
   "cell_type": "markdown",
   "id": "e761ff77-e68c-44a3-9853-5c1225915dbf",
   "metadata": {},
   "source": [
    "## Reproducing LLM Generated Intervention Software"
   ]
  },
  {
   "cell_type": "markdown",
   "id": "64ff0de8",
   "metadata": {},
   "source": [
    "#### Generation Process\n",
    "The prescribed exercise instructions are located in `study_data_analysis/study_data` folder. \n",
    "Within each P1 through P20 sub-directories, the json files containing the instructions are located in its `instructions` sub-directory.\n",
    "Copy-paste in a json file into `LLM_software_generation_code/json` folder and name it `exercise.json`\n",
    "This will create a scenic program in `program_sythesis/scenic_output/exercise.scenic`."
   ]
  },
  {
   "cell_type": "code",
   "execution_count": 3,
   "id": "24148dcd-0896-4ee9-ae6b-940b5f34d78e",
   "metadata": {},
   "outputs": [
    {
     "name": "stdout",
     "output_type": "stream",
     "text": [
      "Generating Scenic program /Users/edward_kim/Desktop/study_data_analysis/LLM_intervention_software_generation/LLM_software_generation_code/json/exercise.json\n",
      "Intervention software generated in `scenic_output` folder\n",
      "software generation time: 37.407429218292236\n"
     ]
    }
   ],
   "source": [
    "import time \n",
    "start = time.time()\n",
    "generate_intervention_software(\"exercise\")\n",
    "end = time.time()\n",
    "print(f\"software generation time: {end-start}\")"
   ]
  }
 ],
 "metadata": {
  "kernelspec": {
   "display_name": "Python 3 (ipykernel)",
   "language": "python",
   "name": "python3"
  },
  "language_info": {
   "codemirror_mode": {
    "name": "ipython",
    "version": 3
   },
   "file_extension": ".py",
   "mimetype": "text/x-python",
   "name": "python",
   "nbconvert_exporter": "python",
   "pygments_lexer": "ipython3",
   "version": "3.11.11"
  }
 },
 "nbformat": 4,
 "nbformat_minor": 5
}
