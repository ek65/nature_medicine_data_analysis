{
 "cells": [
  {
   "cell_type": "code",
   "execution_count": 4,
   "id": "7c08f30d-a9c7-4c99-b5db-e59fc0e099ba",
   "metadata": {},
   "outputs": [],
   "source": [
    "\n",
    "logs = {\n",
    "    \"0\": {\n",
    "        \"ActionAPI\": \"\",\n",
    "        \"Instruction\": \"grab the spoon with your right hand\",\n",
    "        \"Time_Taken\": 0,\n",
    "        \"Completeness\": False\n",
    "    },\n",
    "    \"1\": {\n",
    "        \"ActionAPI\": \"\",\n",
    "        \"Instruction\": \"grab the bowl with your left hand\",\n",
    "        \"Time_Taken\": 0,\n",
    "        \"Completeness\": False\n",
    "    },\n",
    "    \"2\": {\n",
    "        \"ActionAPI\": \"\",\n",
    "        \"Instruction\": \"Stand in front of the kibble box\",\n",
    "        \"Time_Taken\": 0,\n",
    "        \"Completeness\": False\n",
    "    },\n",
    "}"
   ]
  },
  {
   "cell_type": "code",
   "execution_count": 5,
   "id": "9905c613-3142-49da-bb22-a1502d8fe735",
   "metadata": {},
   "outputs": [],
   "source": [
    "def UpdateLogs(logs, log_idx, action_api, time_taken, completeness):\n",
    "    \"\"\"\n",
    "    Updates the logs dictionary with the current action details.\n",
    "\n",
    "    Parameters:\n",
    "        logs (dict): The dictionary to store action execution details.\n",
    "        action_api (str): The name or identifier of the action API invoked.\n",
    "        time_taken (float): The time taken to complete the action (in seconds).\n",
    "        completeness (float): A score or percentage indicating how fully the action was completed.\n",
    "\n",
    "    Returns:\n",
    "        None\n",
    "    \"\"\"\n",
    "    logs[str(log_idx)][\"ActionAPI\"] = action_api\n",
    "    logs[str(log_idx)][\"Time_Taken\"] = time_taken\n",
    "    logs[str(log_idx)][\"Completness\"] = completeness"
   ]
  },
  {
   "cell_type": "code",
   "execution_count": 7,
   "id": "817ad15c-9f14-4fce-ba35-626c5b805283",
   "metadata": {},
   "outputs": [
    {
     "ename": "KeyError",
     "evalue": "'1'",
     "output_type": "error",
     "traceback": [
      "\u001b[1;31m---------------------------------------------------------------------------\u001b[0m",
      "\u001b[1;31mKeyError\u001b[0m                                  Traceback (most recent call last)",
      "Cell \u001b[1;32mIn[7], line 1\u001b[0m\n\u001b[1;32m----> 1\u001b[0m UpdateLogs(logs, \u001b[38;5;241m1\u001b[39m,\u001b[38;5;124m\"\u001b[39m\u001b[38;5;124mqwewq\u001b[39m\u001b[38;5;124m\"\u001b[39m, \u001b[38;5;241m10\u001b[39m, \u001b[38;5;28;01mTrue\u001b[39;00m)\n",
      "Cell \u001b[1;32mIn[5], line 14\u001b[0m, in \u001b[0;36mUpdateLogs\u001b[1;34m(logs, log_idx, action_api, time_taken, completeness)\u001b[0m\n\u001b[0;32m      1\u001b[0m \u001b[38;5;28;01mdef\u001b[39;00m \u001b[38;5;21mUpdateLogs\u001b[39m(logs, log_idx, action_api, time_taken, completeness):\n\u001b[0;32m      2\u001b[0m \u001b[38;5;250m    \u001b[39m\u001b[38;5;124;03m\"\"\"\u001b[39;00m\n\u001b[0;32m      3\u001b[0m \u001b[38;5;124;03m    Updates the logs dictionary with the current action details.\u001b[39;00m\n\u001b[0;32m      4\u001b[0m \n\u001b[1;32m   (...)\u001b[0m\n\u001b[0;32m     12\u001b[0m \u001b[38;5;124;03m        None\u001b[39;00m\n\u001b[0;32m     13\u001b[0m \u001b[38;5;124;03m    \"\"\"\u001b[39;00m\n\u001b[1;32m---> 14\u001b[0m     logs[\u001b[38;5;28mstr\u001b[39m(log_idx)][\u001b[38;5;124m\"\u001b[39m\u001b[38;5;124mActionAPI\u001b[39m\u001b[38;5;124m\"\u001b[39m] \u001b[38;5;241m=\u001b[39m action_api\n\u001b[0;32m     15\u001b[0m     logs[\u001b[38;5;28mstr\u001b[39m(log_idx)][\u001b[38;5;124m\"\u001b[39m\u001b[38;5;124mTime_Taken\u001b[39m\u001b[38;5;124m\"\u001b[39m] \u001b[38;5;241m=\u001b[39m time_taken\n\u001b[0;32m     16\u001b[0m     logs[\u001b[38;5;28mstr\u001b[39m(log_idx)][\u001b[38;5;124m\"\u001b[39m\u001b[38;5;124mCompletness\u001b[39m\u001b[38;5;124m\"\u001b[39m] \u001b[38;5;241m=\u001b[39m completeness\n",
      "\u001b[1;31mKeyError\u001b[0m: '1'"
     ]
    }
   ],
   "source": [
    "UpdateLogs(logs, 1,\"qwewq\", 10, True)"
   ]
  }
 ],
 "metadata": {
  "kernelspec": {
   "display_name": "Python 3 (ipykernel)",
   "language": "python",
   "name": "python3"
  },
  "language_info": {
   "codemirror_mode": {
    "name": "ipython",
    "version": 3
   },
   "file_extension": ".py",
   "mimetype": "text/x-python",
   "name": "python",
   "nbconvert_exporter": "python",
   "pygments_lexer": "ipython3",
   "version": "3.12.7"
  }
 },
 "nbformat": 4,
 "nbformat_minor": 5
}
